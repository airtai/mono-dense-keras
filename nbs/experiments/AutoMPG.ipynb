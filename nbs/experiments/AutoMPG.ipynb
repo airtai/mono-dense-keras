{
 "cells": [
  {
   "cell_type": "code",
   "execution_count": 1,
   "metadata": {},
   "outputs": [],
   "source": [
    "#| default_exp _experiments.auto"
   ]
  },
  {
   "cell_type": "markdown",
   "metadata": {},
   "source": [
    "# Auto MPG dataset\n",
    "\n",
    "The Auto MPG Dataset is a regression dataset [1] with 7 features - Cylinders, Displacement, Horsepower,Weight, Acceleration, Model Year, Origin. And the dependant variable is monotonically decreasing with respect to features weigh, displacement, and horsepower. The `monotonicity_indicator` corrsponding to these features are set to -1, since the relationship is a monotonically decreasing one with respect to the dependant variable.\n",
    "\n",
    "This is a part of comparison with methods and datasets from COMET [2] (Reference #20 in our paper).\n",
    "\n",
    "References:\n",
    "\n",
    "1. Quinlan,R. (1993). Combining Instance-Based and Model-Based Learning. In Proceedings on the Tenth International Conference of Machine Learning, 236-243, University of Massachusetts, Amherst. Morgan Kaufmann.\n",
    " \n",
    "    https://archive.ics.uci.edu/ml/datasets/auto+mpg\n",
    "\n",
    "2.   Aishwarya Sivaraman, Golnoosh Farnadi, Todd Millstein, and Guy Van den Broeck. Counterexample-guided learning of monotonic neural networks. Advances in Neural Information Processing Systems, 33:11936–11948, 2020\n",
    "\n",
    "    Github repo: https://github.com/AishwaryaSivaraman/COMET\n"
   ]
  },
  {
   "cell_type": "code",
   "execution_count": 2,
   "metadata": {},
   "outputs": [],
   "source": [
    "from mono_dense_keras.experiments import get_train_n_test_data, find_hyperparameters, create_tuner_stats"
   ]
  },
  {
   "cell_type": "code",
   "execution_count": 3,
   "metadata": {},
   "outputs": [],
   "source": [
    "from os import environ"
   ]
  },
  {
   "cell_type": "code",
   "execution_count": 4,
   "metadata": {},
   "outputs": [],
   "source": [
    "#| include: false\n",
    "\n",
    "environ[\"TF_FORCE_GPU_ALLOW_GROWTH\"] = \"true\""
   ]
  },
  {
   "cell_type": "markdown",
   "metadata": {},
   "source": [
    "These are a few examples of the dataset:"
   ]
  },
  {
   "cell_type": "code",
   "execution_count": 5,
   "metadata": {},
   "outputs": [
    {
     "data": {
      "text/html": [
       "<style type=\"text/css\">\n",
       "</style>\n",
       "<table id=\"T_e5a31\">\n",
       "  <thead>\n",
       "    <tr>\n",
       "      <th class=\"blank level0\" >&nbsp;</th>\n",
       "      <th id=\"T_e5a31_level0_col0\" class=\"col_heading level0 col0\" >0</th>\n",
       "      <th id=\"T_e5a31_level0_col1\" class=\"col_heading level0 col1\" >1</th>\n",
       "      <th id=\"T_e5a31_level0_col2\" class=\"col_heading level0 col2\" >2</th>\n",
       "      <th id=\"T_e5a31_level0_col3\" class=\"col_heading level0 col3\" >3</th>\n",
       "      <th id=\"T_e5a31_level0_col4\" class=\"col_heading level0 col4\" >4</th>\n",
       "    </tr>\n",
       "  </thead>\n",
       "  <tbody>\n",
       "    <tr>\n",
       "      <th id=\"T_e5a31_level0_row0\" class=\"row_heading level0 row0\" >Cylinders</th>\n",
       "      <td id=\"T_e5a31_row0_col0\" class=\"data row0 col0\" >1.482807</td>\n",
       "      <td id=\"T_e5a31_row0_col1\" class=\"data row0 col1\" >1.482807</td>\n",
       "      <td id=\"T_e5a31_row0_col2\" class=\"data row0 col2\" >1.482807</td>\n",
       "      <td id=\"T_e5a31_row0_col3\" class=\"data row0 col3\" >1.482807</td>\n",
       "      <td id=\"T_e5a31_row0_col4\" class=\"data row0 col4\" >1.482807</td>\n",
       "    </tr>\n",
       "    <tr>\n",
       "      <th id=\"T_e5a31_level0_row1\" class=\"row_heading level0 row1\" >Displacement</th>\n",
       "      <td id=\"T_e5a31_row1_col0\" class=\"data row1 col0\" >1.073028</td>\n",
       "      <td id=\"T_e5a31_row1_col1\" class=\"data row1 col1\" >1.482902</td>\n",
       "      <td id=\"T_e5a31_row1_col2\" class=\"data row1 col2\" >1.044432</td>\n",
       "      <td id=\"T_e5a31_row1_col3\" class=\"data row1 col3\" >1.025368</td>\n",
       "      <td id=\"T_e5a31_row1_col4\" class=\"data row1 col4\" >2.235927</td>\n",
       "    </tr>\n",
       "    <tr>\n",
       "      <th id=\"T_e5a31_level0_row2\" class=\"row_heading level0 row2\" >Horsepower</th>\n",
       "      <td id=\"T_e5a31_row2_col0\" class=\"data row2 col0\" >0.650564</td>\n",
       "      <td id=\"T_e5a31_row2_col1\" class=\"data row2 col1\" >1.548993</td>\n",
       "      <td id=\"T_e5a31_row2_col2\" class=\"data row2 col2\" >1.163952</td>\n",
       "      <td id=\"T_e5a31_row2_col3\" class=\"data row2 col3\" >0.907258</td>\n",
       "      <td id=\"T_e5a31_row2_col4\" class=\"data row2 col4\" >2.396084</td>\n",
       "    </tr>\n",
       "    <tr>\n",
       "      <th id=\"T_e5a31_level0_row3\" class=\"row_heading level0 row3\" >Weight</th>\n",
       "      <td id=\"T_e5a31_row3_col0\" class=\"data row3 col0\" >0.606625</td>\n",
       "      <td id=\"T_e5a31_row3_col1\" class=\"data row3 col1\" >0.828131</td>\n",
       "      <td id=\"T_e5a31_row3_col2\" class=\"data row3 col2\" >0.523413</td>\n",
       "      <td id=\"T_e5a31_row3_col3\" class=\"data row3 col3\" >0.542165</td>\n",
       "      <td id=\"T_e5a31_row3_col4\" class=\"data row3 col4\" >1.587581</td>\n",
       "    </tr>\n",
       "    <tr>\n",
       "      <th id=\"T_e5a31_level0_row4\" class=\"row_heading level0 row4\" >Acceleration</th>\n",
       "      <td id=\"T_e5a31_row4_col0\" class=\"data row4 col0\" >-1.275546</td>\n",
       "      <td id=\"T_e5a31_row4_col1\" class=\"data row4 col1\" >-1.452517</td>\n",
       "      <td id=\"T_e5a31_row4_col2\" class=\"data row4 col2\" >-1.275546</td>\n",
       "      <td id=\"T_e5a31_row4_col3\" class=\"data row4 col3\" >-1.806460</td>\n",
       "      <td id=\"T_e5a31_row4_col4\" class=\"data row4 col4\" >-1.983431</td>\n",
       "    </tr>\n",
       "    <tr>\n",
       "      <th id=\"T_e5a31_level0_row5\" class=\"row_heading level0 row5\" >Model_Year</th>\n",
       "      <td id=\"T_e5a31_row5_col0\" class=\"data row5 col0\" >-1.631803</td>\n",
       "      <td id=\"T_e5a31_row5_col1\" class=\"data row5 col1\" >-1.631803</td>\n",
       "      <td id=\"T_e5a31_row5_col2\" class=\"data row5 col2\" >-1.631803</td>\n",
       "      <td id=\"T_e5a31_row5_col3\" class=\"data row5 col3\" >-1.631803</td>\n",
       "      <td id=\"T_e5a31_row5_col4\" class=\"data row5 col4\" >-1.631803</td>\n",
       "    </tr>\n",
       "    <tr>\n",
       "      <th id=\"T_e5a31_level0_row6\" class=\"row_heading level0 row6\" >Origin</th>\n",
       "      <td id=\"T_e5a31_row6_col0\" class=\"data row6 col0\" >-0.701669</td>\n",
       "      <td id=\"T_e5a31_row6_col1\" class=\"data row6 col1\" >-0.701669</td>\n",
       "      <td id=\"T_e5a31_row6_col2\" class=\"data row6 col2\" >-0.701669</td>\n",
       "      <td id=\"T_e5a31_row6_col3\" class=\"data row6 col3\" >-0.701669</td>\n",
       "      <td id=\"T_e5a31_row6_col4\" class=\"data row6 col4\" >-0.701669</td>\n",
       "    </tr>\n",
       "    <tr>\n",
       "      <th id=\"T_e5a31_level0_row7\" class=\"row_heading level0 row7\" >ground_truth</th>\n",
       "      <td id=\"T_e5a31_row7_col0\" class=\"data row7 col0\" >18.000000</td>\n",
       "      <td id=\"T_e5a31_row7_col1\" class=\"data row7 col1\" >15.000000</td>\n",
       "      <td id=\"T_e5a31_row7_col2\" class=\"data row7 col2\" >16.000000</td>\n",
       "      <td id=\"T_e5a31_row7_col3\" class=\"data row7 col3\" >17.000000</td>\n",
       "      <td id=\"T_e5a31_row7_col4\" class=\"data row7 col4\" >15.000000</td>\n",
       "    </tr>\n",
       "  </tbody>\n",
       "</table>\n"
      ],
      "text/plain": [
       "<pandas.io.formats.style.Styler at 0x7fcf1cf3dd30>"
      ]
     },
     "metadata": {},
     "output_type": "display_data"
    }
   ],
   "source": [
    "#| echo: false\n",
    "\n",
    "train_df, test_df = get_train_n_test_data(dataset_name=\"auto\")\n",
    "display(train_df.head().T.style)"
   ]
  },
  {
   "cell_type": "code",
   "execution_count": 7,
   "metadata": {},
   "outputs": [
    {
     "name": "stdout",
     "output_type": "stream",
     "text": [
      "Trial 32 Complete [00h 00m 15s]\n",
      "val_mse: 10.45270856221517\n",
      "\n",
      "Best val_mse So Far: 8.659334818522135\n",
      "Total elapsed time: 00h 00m 45s\n",
      "INFO:tensorflow:Oracle triggered exit\n"
     ]
    }
   ],
   "source": [
    "tuner = find_hyperparameters(\n",
    "    \"auto\",\n",
    "    monotonicity_indicator={\n",
    "        \"Cylinders\": 0,\n",
    "        \"Displacement\": -1,\n",
    "        \"Horsepower\": -1,\n",
    "        \"Weight\": -1,\n",
    "        \"Acceleration\": 0,\n",
    "        \"Model_Year\": 0,\n",
    "        \"Origin\": 0,\n",
    "    },\n",
    "    max_trials=100,\n",
    "    final_activation=None,\n",
    "    loss=\"mse\",\n",
    "    metrics=\"mse\",\n",
    "    objective=\"val_mse\",\n",
    ")"
   ]
  },
  {
   "cell_type": "code",
   "execution_count": 9,
   "metadata": {},
   "outputs": [
    {
     "data": {
      "text/html": [
       "<div>\n",
       "<style scoped>\n",
       "    .dataframe tbody tr th:only-of-type {\n",
       "        vertical-align: middle;\n",
       "    }\n",
       "\n",
       "    .dataframe tbody tr th {\n",
       "        vertical-align: top;\n",
       "    }\n",
       "\n",
       "    .dataframe thead th {\n",
       "        text-align: right;\n",
       "    }\n",
       "</style>\n",
       "<table border=\"1\" class=\"dataframe\">\n",
       "  <thead>\n",
       "    <tr style=\"text-align: right;\">\n",
       "      <th></th>\n",
       "      <th>units</th>\n",
       "      <th>n_layers</th>\n",
       "      <th>activation</th>\n",
       "      <th>learning_rate</th>\n",
       "      <th>weight_decay</th>\n",
       "      <th>dropout</th>\n",
       "      <th>decay_rate</th>\n",
       "      <th>val_mse_mean</th>\n",
       "      <th>val_mse_std</th>\n",
       "      <th>val_mse_min</th>\n",
       "      <th>val_mse_max</th>\n",
       "      <th>params</th>\n",
       "    </tr>\n",
       "  </thead>\n",
       "  <tbody>\n",
       "    <tr>\n",
       "      <th>0</th>\n",
       "      <td>26</td>\n",
       "      <td>2</td>\n",
       "      <td>elu</td>\n",
       "      <td>0.086301</td>\n",
       "      <td>0.147297</td>\n",
       "      <td>0.162063</td>\n",
       "      <td>0.927282</td>\n",
       "      <td>8.979827</td>\n",
       "      <td>NaN</td>\n",
       "      <td>8.979827</td>\n",
       "      <td>8.979827</td>\n",
       "      <td>1363</td>\n",
       "    </tr>\n",
       "  </tbody>\n",
       "</table>\n",
       "</div>"
      ],
      "text/plain": [
       "   units  n_layers activation  learning_rate  weight_decay   dropout   \n",
       "0     26         2        elu       0.086301      0.147297  0.162063  \\\n",
       "\n",
       "   decay_rate  val_mse_mean  val_mse_std  val_mse_min  val_mse_max  params  \n",
       "0    0.927282      8.979827          NaN     8.979827     8.979827    1363  "
      ]
     },
     "metadata": {},
     "output_type": "display_data"
    }
   ],
   "source": [
    "#| include: false\n",
    "\n",
    "stats = create_tuner_stats(tuner)"
   ]
  },
  {
   "cell_type": "code",
   "execution_count": 10,
   "metadata": {},
   "outputs": [
    {
     "data": {
      "text/html": [
       "<style type=\"text/css\">\n",
       "</style>\n",
       "<table id=\"T_e1b21\">\n",
       "  <thead>\n",
       "    <tr>\n",
       "      <th class=\"blank level0\" >&nbsp;</th>\n",
       "      <th id=\"T_e1b21_level0_col0\" class=\"col_heading level0 col0\" >0</th>\n",
       "    </tr>\n",
       "  </thead>\n",
       "  <tbody>\n",
       "    <tr>\n",
       "      <th id=\"T_e1b21_level0_row0\" class=\"row_heading level0 row0\" >units</th>\n",
       "      <td id=\"T_e1b21_row0_col0\" class=\"data row0 col0\" >26</td>\n",
       "    </tr>\n",
       "    <tr>\n",
       "      <th id=\"T_e1b21_level0_row1\" class=\"row_heading level0 row1\" >n_layers</th>\n",
       "      <td id=\"T_e1b21_row1_col0\" class=\"data row1 col0\" >2</td>\n",
       "    </tr>\n",
       "    <tr>\n",
       "      <th id=\"T_e1b21_level0_row2\" class=\"row_heading level0 row2\" >activation</th>\n",
       "      <td id=\"T_e1b21_row2_col0\" class=\"data row2 col0\" >elu</td>\n",
       "    </tr>\n",
       "    <tr>\n",
       "      <th id=\"T_e1b21_level0_row3\" class=\"row_heading level0 row3\" >learning_rate</th>\n",
       "      <td id=\"T_e1b21_row3_col0\" class=\"data row3 col0\" >0.086301</td>\n",
       "    </tr>\n",
       "    <tr>\n",
       "      <th id=\"T_e1b21_level0_row4\" class=\"row_heading level0 row4\" >weight_decay</th>\n",
       "      <td id=\"T_e1b21_row4_col0\" class=\"data row4 col0\" >0.147297</td>\n",
       "    </tr>\n",
       "    <tr>\n",
       "      <th id=\"T_e1b21_level0_row5\" class=\"row_heading level0 row5\" >dropout</th>\n",
       "      <td id=\"T_e1b21_row5_col0\" class=\"data row5 col0\" >0.162063</td>\n",
       "    </tr>\n",
       "    <tr>\n",
       "      <th id=\"T_e1b21_level0_row6\" class=\"row_heading level0 row6\" >decay_rate</th>\n",
       "      <td id=\"T_e1b21_row6_col0\" class=\"data row6 col0\" >0.927282</td>\n",
       "    </tr>\n",
       "    <tr>\n",
       "      <th id=\"T_e1b21_level0_row7\" class=\"row_heading level0 row7\" >val_mse_mean</th>\n",
       "      <td id=\"T_e1b21_row7_col0\" class=\"data row7 col0\" >8.979827</td>\n",
       "    </tr>\n",
       "    <tr>\n",
       "      <th id=\"T_e1b21_level0_row8\" class=\"row_heading level0 row8\" >val_mse_std</th>\n",
       "      <td id=\"T_e1b21_row8_col0\" class=\"data row8 col0\" >nan</td>\n",
       "    </tr>\n",
       "    <tr>\n",
       "      <th id=\"T_e1b21_level0_row9\" class=\"row_heading level0 row9\" >val_mse_min</th>\n",
       "      <td id=\"T_e1b21_row9_col0\" class=\"data row9 col0\" >8.979827</td>\n",
       "    </tr>\n",
       "    <tr>\n",
       "      <th id=\"T_e1b21_level0_row10\" class=\"row_heading level0 row10\" >val_mse_max</th>\n",
       "      <td id=\"T_e1b21_row10_col0\" class=\"data row10 col0\" >8.979827</td>\n",
       "    </tr>\n",
       "    <tr>\n",
       "      <th id=\"T_e1b21_level0_row11\" class=\"row_heading level0 row11\" >params</th>\n",
       "      <td id=\"T_e1b21_row11_col0\" class=\"data row11 col0\" >1363</td>\n",
       "    </tr>\n",
       "  </tbody>\n",
       "</table>\n"
      ],
      "text/plain": [
       "<pandas.io.formats.style.Styler at 0x7fcc2c115bb0>"
      ]
     },
     "execution_count": 10,
     "metadata": {},
     "output_type": "execute_result"
    }
   ],
   "source": [
    "#| echo: false\n",
    "\n",
    "stats.head().T.style"
   ]
  },
  {
   "cell_type": "code",
   "execution_count": null,
   "metadata": {},
   "outputs": [],
   "source": []
  }
 ],
 "metadata": {
  "kernelspec": {
   "display_name": "Python 3",
   "language": "python",
   "name": "python3"
  },
  "language_info": {
   "codemirror_mode": {
    "name": "ipython",
    "version": 3
   },
   "file_extension": ".py",
   "mimetype": "text/x-python",
   "name": "python",
   "nbconvert_exporter": "python",
   "pygments_lexer": "ipython3",
   "version": "3.8.10"
  }
 },
 "nbformat": 4,
 "nbformat_minor": 1
}
