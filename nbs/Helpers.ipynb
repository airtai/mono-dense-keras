{
 "cells": [
  {
   "cell_type": "code",
   "execution_count": 1,
   "id": "24b02ac8",
   "metadata": {},
   "outputs": [],
   "source": [
    "#| default_exp helpers"
   ]
  },
  {
   "cell_type": "code",
   "execution_count": 2,
   "id": "7217fc24",
   "metadata": {},
   "outputs": [],
   "source": [
    "#| export\n",
    "\n",
    "from typing import Any, TypeVar"
   ]
  },
  {
   "cell_type": "code",
   "execution_count": 3,
   "id": "aeed7e71",
   "metadata": {},
   "outputs": [],
   "source": [
    "#| export\n",
    "\n",
    "T = TypeVar(\"T\")\n",
    "\n",
    "def export(o: T) -> T:\n",
    "    o.__module__ = \"mono_dense_keras\"\n",
    "    return o"
   ]
  },
  {
   "cell_type": "code",
   "execution_count": 4,
   "id": "d2504738",
   "metadata": {},
   "outputs": [],
   "source": [
    "@export\n",
    "def f():\n",
    "    pass\n",
    "\n",
    "assert f.__module__ == \"mono_dense_keras\""
   ]
  },
  {
   "cell_type": "code",
   "execution_count": null,
   "id": "cda91854",
   "metadata": {},
   "outputs": [],
   "source": []
  }
 ],
 "metadata": {
  "kernelspec": {
   "display_name": "Python 3",
   "language": "python",
   "name": "python3"
  },
  "language_info": {
   "codemirror_mode": {
    "name": "ipython",
    "version": 3
   },
   "file_extension": ".py",
   "mimetype": "text/x-python",
   "name": "python",
   "nbconvert_exporter": "python",
   "pygments_lexer": "ipython3",
   "version": "3.8.10"
  }
 },
 "nbformat": 4,
 "nbformat_minor": 5
}
