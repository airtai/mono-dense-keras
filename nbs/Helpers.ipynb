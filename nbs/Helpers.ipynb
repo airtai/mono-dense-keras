{
 "cells": [
  {
   "cell_type": "code",
   "execution_count": null,
   "id": "24b02ac8",
   "metadata": {},
   "outputs": [],
   "source": [
    "# | default_exp helpers"
   ]
  },
  {
   "cell_type": "code",
   "execution_count": null,
   "id": "7217fc24",
   "metadata": {},
   "outputs": [],
   "source": [
    "# | export\n",
    "\n",
    "from typing import Any, TypeVar"
   ]
  },
  {
   "cell_type": "code",
   "execution_count": null,
   "id": "aeed7e71",
   "metadata": {},
   "outputs": [],
   "source": [
    "# | export\n",
    "\n",
    "T = TypeVar(\"T\")\n",
    "\n",
    "\n",
    "def export(o: T) -> T:\n",
    "    o.__module__ = \"mono_dense_keras\"\n",
    "    return o"
   ]
  },
  {
   "cell_type": "code",
   "execution_count": null,
   "id": "d2504738",
   "metadata": {},
   "outputs": [],
   "source": [
    "@export\n",
    "def f():\n",
    "    pass\n",
    "\n",
    "\n",
    "assert f.__module__ == \"mono_dense_keras\""
   ]
  },
  {
   "cell_type": "code",
   "execution_count": null,
   "id": "cda91854",
   "metadata": {},
   "outputs": [],
   "source": []
  }
 ],
 "metadata": {
  "kernelspec": {
   "display_name": "python3",
   "language": "python",
   "name": "python3"
  }
 },
 "nbformat": 4,
 "nbformat_minor": 5
}
