{
 "cells": [
  {
   "cell_type": "markdown",
   "metadata": {},
   "source": [
    "# Constrained Monotonic Neural Networks\n",
    "\n",
    "> Monotonic Dense Layer implementation in Keras"
   ]
  },
  {
   "cell_type": "markdown",
   "metadata": {},
   "source": [
    "This Python library implements Monotonic Dense Layer as described in Davor Runje, Sharath M. Shankaranarayana, \"Constrained Monotonic Neural Networks\", https://https://arxiv.org/abs/2205.11775.\n",
    "\n",
    "If you use this library, please cite:\n",
    "\n",
    "    @misc{https://doi.org/10.48550/arxiv.2205.11775,\n",
    "      doi = {10.48550/ARXIV.2205.11775},\n",
    "      url = {https://arxiv.org/abs/2205.11775},\n",
    "      author = {Runje, Davor and Shankaranarayana, Sharath M.},\n",
    "      title = {Constrained Monotonic Neural Networks},\n",
    "      publisher = {arXiv},\n",
    "      year = {2022},\n",
    "      copyright = {Creative Commons Attribution Non Commercial Share Alike 4.0 International}\n",
    "    }\n"
   ]
  },
  {
   "cell_type": "markdown",
   "metadata": {},
   "source": [
    "## Install"
   ]
  },
  {
   "cell_type": "markdown",
   "metadata": {},
   "source": [
    "```sh\n",
    "pip install mono-dense-keras\n",
    "```"
   ]
  },
  {
   "cell_type": "markdown",
   "metadata": {},
   "source": [
    "## How to use"
   ]
  },
  {
   "cell_type": "code",
   "execution_count": null,
   "metadata": {},
   "outputs": [],
   "source": [
    "#| hide\n",
    "\n",
    "import os\n",
    "\n",
    "os.environ[\"TF_FORCE_GPU_ALLOW_GROWTH\"] = \"true\""
   ]
  },
  {
   "cell_type": "markdown",
   "metadata": {},
   "source": [
    "First, we'll create a simple dataset for testing using numpy. Inputs values $x_1$, $x_2$ and $x_3$  will be sampled from the normal distribution, while the output value $y$ will be calculated according to the following formula before adding noise to it:\n",
    "\n",
    "$y = x_1^3 + \\sin\\left(\\frac{x_2}{2 \\pi}\\right) + e^{-x_3}$"
   ]
  },
  {
   "cell_type": "code",
   "execution_count": null,
   "metadata": {},
   "outputs": [],
   "source": [
    "import numpy as np\n",
    "\n",
    "rng = np.random.default_rng(42)\n",
    "\n",
    "def generate_data(no_samples: int, noise: float):\n",
    "    x = rng.normal(size=(no_samples, 3))\n",
    "    y = x[:, 0] ** 3\n",
    "    y += np.sin(x[:, 1] / (2*np.pi))\n",
    "    y += np.exp(-x[:, 2])\n",
    "    y += noise * rng.normal(size=no_samples)\n",
    "    return x, y\n",
    "\n",
    "x_train, y_train = generate_data(10_000, noise=0.1)\n",
    "x_val, y_val = generate_data(10_000, noise=0.)"
   ]
  },
  {
   "cell_type": "markdown",
   "metadata": {},
   "source": [
    "First, we'll build a simple feedforward neural network using `Dense` layer from Keras library."
   ]
  },
  {
   "cell_type": "code",
   "execution_count": null,
   "metadata": {},
   "outputs": [],
   "source": [
    "import tensorflow as tf\n",
    "\n",
    "from tensorflow.keras import Sequential\n",
    "from tensorflow.keras.layers import Dense, Input\n",
    "from tensorflow.keras.optimizers import Adam\n",
    "from tensorflow.keras.optimizers.schedules import ExponentialDecay\n",
    "\n",
    "# build a simple model with 3 hidden layer\n",
    "model = Sequential()\n",
    "\n",
    "model.add(Input(shape=(3,)))\n",
    "model.add(Dense(128, activation=\"elu\"))\n",
    "model.add(Dense(128, activation=\"elu\"))\n",
    "model.add(Dense(1))"
   ]
  },
  {
   "cell_type": "markdown",
   "metadata": {},
   "source": [
    "We'll train the network using the `Adam` optimizer and the `ExponentialDecay` learning rate schedule:"
   ]
  },
  {
   "cell_type": "code",
   "execution_count": null,
   "metadata": {},
   "outputs": [
    {
     "name": "stdout",
     "output_type": "stream",
     "text": [
      "Epoch 1/10\n",
      "313/313 [==============================] - 2s 3ms/step - loss: 9.2746 - val_loss: 9.4512\n",
      "Epoch 2/10\n",
      "313/313 [==============================] - 1s 3ms/step - loss: 7.9443 - val_loss: 8.4021\n",
      "Epoch 3/10\n",
      "313/313 [==============================] - 1s 3ms/step - loss: 7.5441 - val_loss: 8.0130\n",
      "Epoch 4/10\n",
      "313/313 [==============================] - 1s 3ms/step - loss: 7.0930 - val_loss: 7.1562\n",
      "Epoch 5/10\n",
      "313/313 [==============================] - 1s 3ms/step - loss: 5.1077 - val_loss: 3.1863\n",
      "Epoch 6/10\n",
      "313/313 [==============================] - 1s 3ms/step - loss: 1.6965 - val_loss: 1.0904\n",
      "Epoch 7/10\n",
      "313/313 [==============================] - 1s 3ms/step - loss: 0.9010 - val_loss: 0.6402\n",
      "Epoch 8/10\n",
      "313/313 [==============================] - 1s 3ms/step - loss: 0.6239 - val_loss: 0.3862\n",
      "Epoch 9/10\n",
      "313/313 [==============================] - 1s 3ms/step - loss: 0.4810 - val_loss: 0.3410\n",
      "Epoch 10/10\n",
      "313/313 [==============================] - 1s 3ms/step - loss: 0.3945 - val_loss: 0.2314\n"
     ]
    }
   ],
   "source": [
    "def train_model(model, initial_learning_rate):\n",
    "    # train the model\n",
    "    lr_schedule = ExponentialDecay(\n",
    "        initial_learning_rate=initial_learning_rate,\n",
    "        decay_steps=10_000,\n",
    "        decay_rate=0.9,\n",
    "    )\n",
    "    optimizer = Adam(learning_rate=lr_schedule)\n",
    "    model.compile(optimizer=\"adam\", loss=\"mse\")\n",
    "\n",
    "    model.fit(x=x_train, y=y_train, batch_size=32, validation_data=(x_val, y_val), epochs=10)\n",
    "    \n",
    "train_model(model, initial_learning_rate=.1)"
   ]
  },
  {
   "cell_type": "markdown",
   "metadata": {},
   "source": [
    "Now, we'll use the `MonotonicDense` layer instead of `Dense` layer. By default, the `MonotonicDense` layer assumes the output of the layer is monotonically increasing with all inputs. This assumtion is always true for all layers except possibly the first one. For the first layer, we use `indicator_vector` to specify which input parameters are monotonic and to specify are they increasingly or decreasingly monotonic:\n",
    "- set 1 for increasingly monotonic parameter,\n",
    "\n",
    "- set -1 for decreasingly monotonic parameter, and\n",
    "\n",
    "- set 0 otherwise.\n",
    "\n",
    "In our case, the `indicator_vector` is `[1, 0, -1]` because $y$ is:\n",
    "- monotonically increasing w.r.t. $x_1$ $\\left(\\frac{\\partial y}{x_1} = 3 {x_1}^2 \\geq 0\\right)$, and\n",
    "\n",
    "- monotonically decreasing w.r.t. $x_3$ $\\left(\\frac{\\partial y}{x_3} = - e^{-x_2} \\leq 0\\right)$.\n"
   ]
  },
  {
   "cell_type": "code",
   "execution_count": null,
   "metadata": {},
   "outputs": [],
   "source": [
    "from airt.keras.layers import MonotonicDense\n",
    "\n",
    "\n",
    "# build a simple model with 3 hidden layer, but this using MonotonicDense layer\n",
    "mono_model = Sequential()\n",
    "\n",
    "mono_model.add(Input(shape=(3,)))\n",
    "indicator_vector = [1, 0, -1]\n",
    "mono_model.add(MonotonicDense(128, activation=\"elu\", indicator_vector=indicator_vector))\n",
    "mono_model.add(MonotonicDense(128, activation=\"elu\"))\n",
    "\n",
    "mono_model.add(Dense(1))"
   ]
  },
  {
   "cell_type": "code",
   "execution_count": null,
   "metadata": {},
   "outputs": [
    {
     "name": "stdout",
     "output_type": "stream",
     "text": [
      "Epoch 1/10\n",
      "313/313 [==============================] - 2s 3ms/step - loss: 0.3102 - val_loss: 0.1625\n",
      "Epoch 2/10\n",
      "313/313 [==============================] - 1s 3ms/step - loss: 0.3265 - val_loss: 0.1656\n",
      "Epoch 3/10\n",
      "313/313 [==============================] - 1s 3ms/step - loss: 0.2603 - val_loss: 0.0976\n",
      "Epoch 4/10\n",
      "313/313 [==============================] - 1s 3ms/step - loss: 0.2140 - val_loss: 0.1340\n",
      "Epoch 5/10\n",
      "313/313 [==============================] - 1s 3ms/step - loss: 0.1731 - val_loss: 0.4058\n",
      "Epoch 6/10\n",
      "313/313 [==============================] - 1s 3ms/step - loss: 0.1726 - val_loss: 0.0517\n",
      "Epoch 7/10\n",
      "313/313 [==============================] - 1s 3ms/step - loss: 0.1550 - val_loss: 0.0655\n",
      "Epoch 8/10\n",
      "313/313 [==============================] - 1s 3ms/step - loss: 0.1324 - val_loss: 0.1012\n",
      "Epoch 9/10\n",
      "313/313 [==============================] - 1s 3ms/step - loss: 0.1219 - val_loss: 0.0337\n",
      "Epoch 10/10\n",
      "313/313 [==============================] - 1s 3ms/step - loss: 0.1148 - val_loss: 0.1091\n"
     ]
    }
   ],
   "source": [
    "train_model(model, initial_learning_rate=.001)"
   ]
  },
  {
   "cell_type": "markdown",
   "metadata": {},
   "source": [
    "## License"
   ]
  },
  {
   "cell_type": "markdown",
   "metadata": {},
   "source": [
    "The full text of the license is available at:\n",
    "\n",
    "https://github.com/airtai/mono-dense-keras/blob/main/LICENSE\n",
    "\n",
    "You are free to:\n",
    "- Share — copy and redistribute the material in any medium or format\n",
    "\n",
    "- Adapt — remix, transform, and build upon the material\n",
    "\n",
    "The licensor cannot revoke these freedoms as long as you follow the license terms.\n",
    "\n",
    "Under the following terms:\n",
    "- Attribution — You must give appropriate credit, provide a link to the license, and indicate if changes were made. You may do so in any reasonable manner, but not in any way that suggests the licensor endorses you or your use.\n",
    "\n",
    "- NonCommercial — You may not use the material for commercial purposes.\n",
    "\n",
    "- ShareAlike — If you remix, transform, or build upon the material, you must distribute your contributions under the same license as the original.\n",
    "\n",
    "- No additional restrictions — You may not apply legal terms or technological measures that legally restrict others from doing anything the license permits."
   ]
  },
  {
   "cell_type": "code",
   "execution_count": null,
   "metadata": {},
   "outputs": [],
   "source": []
  }
 ],
 "metadata": {
  "kernelspec": {
   "display_name": "Python 3",
   "language": "python",
   "name": "python3"
  }
 },
 "nbformat": 4,
 "nbformat_minor": 4
}
