{
 "cells": [
  {
   "cell_type": "markdown",
   "metadata": {},
   "source": [
    "# Constrained Monotonic Neural Networks\n",
    "\n",
    "> Monotonic Dense Layer implementation in Keras"
   ]
  },
  {
   "cell_type": "markdown",
   "metadata": {},
   "source": [
    "This Python library implements Monotonic Dense Layer as described in Davor Runje, Sharath M. Shankaranarayana, \"Constrained Monotonic Neural Networks\", https://https://arxiv.org/abs/2205.11775.\n",
    "\n",
    "If you use this library, please cite:\n",
    "\n",
    "    @misc{https://doi.org/10.48550/arxiv.2205.11775,\n",
    "      doi = {10.48550/ARXIV.2205.11775},\n",
    "      url = {https://arxiv.org/abs/2205.11775},\n",
    "      author = {Runje, Davor and Shankaranarayana, Sharath M.},\n",
    "      title = {Constrained Monotonic Neural Networks},\n",
    "      publisher = {arXiv},\n",
    "      year = {2022},\n",
    "      copyright = {Creative Commons Attribution Non Commercial Share Alike 4.0 International}\n",
    "    }\n"
   ]
  },
  {
   "cell_type": "markdown",
   "metadata": {},
   "source": [
    "## Install"
   ]
  },
  {
   "cell_type": "markdown",
   "metadata": {},
   "source": [
    "```sh\n",
    "pip install mono-dense-keras\n",
    "```"
   ]
  },
  {
   "cell_type": "markdown",
   "metadata": {},
   "source": [
    "## How to use"
   ]
  },
  {
   "cell_type": "code",
   "execution_count": 1,
   "metadata": {},
   "outputs": [],
   "source": [
    "#| hide\n",
    "\n",
    "import os\n",
    "\n",
    "os.environ[\"TF_FORCE_GPU_ALLOW_GROWTH\"] = \"true\""
   ]
  },
  {
   "cell_type": "markdown",
   "metadata": {},
   "source": [
    "First, we'll create a simple dataset for testing using numpy. Inputs values $x_1$, $x_2$ and $x_3$  will be sampled from the normal distribution, while the output value $y$ will be calculated according to the following formula before adding noise to it:\n",
    "\n",
    "$y = x_1^3 + \\sin\\left(\\frac{x_2}{2 \\pi}\\right) + e^{-x_3}$"
   ]
  },
  {
   "cell_type": "code",
   "execution_count": 2,
   "metadata": {},
   "outputs": [],
   "source": [
    "import numpy as np\n",
    "\n",
    "rng = np.random.default_rng(42)\n",
    "\n",
    "def generate_data(no_samples: int, noise: float):\n",
    "    x = rng.normal(size=(no_samples, 3))\n",
    "    y = x[:, 0] ** 3\n",
    "    y += np.sin(x[:, 1] / (2*np.pi))\n",
    "    y += np.exp(-x[:, 2])\n",
    "    y += noise * rng.normal(size=no_samples)\n",
    "    return x, y\n",
    "\n",
    "x_train, y_train = generate_data(10_000, noise=0.1)\n",
    "x_val, y_val = generate_data(10_000, noise=0.)"
   ]
  },
  {
   "cell_type": "markdown",
   "metadata": {},
   "source": [
    "First, we'll build a simple feedforward neural network using `Dense` layer from Keras library."
   ]
  },
  {
   "cell_type": "code",
   "execution_count": 3,
   "metadata": {},
   "outputs": [],
   "source": [
    "import tensorflow as tf\n",
    "\n",
    "from tensorflow.keras import Sequential\n",
    "from tensorflow.keras.layers import Dense, Input\n",
    "from tensorflow.keras.optimizers import Adam\n",
    "from tensorflow.keras.optimizers.schedules import ExponentialDecay\n",
    "\n",
    "# build a simple model with 3 hidden layer\n",
    "model = Sequential()\n",
    "\n",
    "model.add(Input(shape=(3,)))\n",
    "model.add(Dense(128, activation=\"elu\"))\n",
    "model.add(Dense(128, activation=\"elu\"))\n",
    "model.add(Dense(1))"
   ]
  },
  {
   "cell_type": "markdown",
   "metadata": {},
   "source": [
    "We'll train the network using the `Adam` optimizer and the `ExponentialDecay` learning rate schedule:"
   ]
  },
  {
   "cell_type": "code",
   "execution_count": 4,
   "metadata": {},
   "outputs": [
    {
     "name": "stdout",
     "output_type": "stream",
     "text": [
      "Epoch 1/10\n",
      "313/313 [==============================] - 2s 3ms/step - loss: 9.1628 - val_loss: 9.0930\n",
      "Epoch 2/10\n",
      "313/313 [==============================] - 1s 3ms/step - loss: 7.8991 - val_loss: 8.2826\n",
      "Epoch 3/10\n",
      "313/313 [==============================] - 1s 3ms/step - loss: 7.5450 - val_loss: 8.0699\n",
      "Epoch 4/10\n",
      "313/313 [==============================] - 1s 3ms/step - loss: 7.2505 - val_loss: 8.6816\n",
      "Epoch 5/10\n",
      "313/313 [==============================] - 1s 3ms/step - loss: 6.8590 - val_loss: 6.8446\n",
      "Epoch 6/10\n",
      "313/313 [==============================] - 1s 3ms/step - loss: 4.8426 - val_loss: 3.2080\n",
      "Epoch 7/10\n",
      "313/313 [==============================] - 1s 3ms/step - loss: 1.6464 - val_loss: 1.0514\n",
      "Epoch 8/10\n",
      "313/313 [==============================] - 1s 3ms/step - loss: 0.8857 - val_loss: 0.6081\n",
      "Epoch 9/10\n",
      "313/313 [==============================] - 1s 3ms/step - loss: 0.5877 - val_loss: 0.4978\n",
      "Epoch 10/10\n",
      "313/313 [==============================] - 1s 3ms/step - loss: 0.4596 - val_loss: 0.2920\n"
     ]
    }
   ],
   "source": [
    "def train_model(model, initial_learning_rate):\n",
    "    # train the model\n",
    "    lr_schedule = ExponentialDecay(\n",
    "        initial_learning_rate=initial_learning_rate,\n",
    "        decay_steps=10_000,\n",
    "        decay_rate=0.9,\n",
    "    )\n",
    "    optimizer = Adam(learning_rate=lr_schedule)\n",
    "    model.compile(optimizer=\"adam\", loss=\"mse\")\n",
    "\n",
    "    model.fit(x=x_train, y=y_train, batch_size=32, validation_data=(x_val, y_val), epochs=10)\n",
    "    \n",
    "train_model(model, initial_learning_rate=.1)"
   ]
  },
  {
   "cell_type": "markdown",
   "metadata": {},
   "source": [
    "Now, we'll use the `MonotonicDense` layer instead of `Dense` layer. By default, the `MonotonicDense` layer assumes the output of the layer is monotonically increasing with all inputs. This assumtion is always true for all layers except possibly the first one. For the first layer, we use `indicator_vector` to specify which input parameters are monotonic and to specify are they increasingly or decreasingly monotonic:\n",
    "- set 1 for increasingly monotonic parameter,\n",
    "\n",
    "- set -1 for decreasingly monotonic parameter, and\n",
    "\n",
    "- set 0 otherwise.\n",
    "\n",
    "In our case, the `indicator_vector` is `[1, 0, -1]` because $y$ is:\n",
    "- monotonically increasing w.r.t. $x_1$ $\\left(\\frac{\\partial y}{x_1} = 3 {x_1}^2 \\geq 0\\right)$, and\n",
    "\n",
    "- monotonically decreasing w.r.t. $x_3$ $\\left(\\frac{\\partial y}{x_3} = - e^{-x_2} \\leq 0\\right)$.\n"
   ]
  },
  {
   "cell_type": "code",
   "execution_count": 5,
   "metadata": {},
   "outputs": [],
   "source": [
    "from mono_dense_keras import MonoDense\n",
    "\n",
    "\n",
    "# build a simple model with 3 hidden layer, but this using MonotonicDense layer\n",
    "mono_model = Sequential()\n",
    "\n",
    "mono_model.add(Input(shape=(3,)))\n",
    "monotonicity_indicator = [1, 0, -1]\n",
    "mono_model.add(MonoDense(128, activation=\"elu\", monotonicity_indicator=monotonicity_indicator))\n",
    "mono_model.add(MonoDense(128, activation=\"elu\"))\n",
    "\n",
    "mono_model.add(Dense(1))"
   ]
  },
  {
   "cell_type": "code",
   "execution_count": 6,
   "metadata": {},
   "outputs": [
    {
     "name": "stdout",
     "output_type": "stream",
     "text": [
      "Epoch 1/10\n",
      "313/313 [==============================] - 2s 3ms/step - loss: 0.3740 - val_loss: 0.2028\n",
      "Epoch 2/10\n",
      "313/313 [==============================] - 1s 3ms/step - loss: 0.3146 - val_loss: 0.1658\n",
      "Epoch 3/10\n",
      "313/313 [==============================] - 1s 3ms/step - loss: 0.2731 - val_loss: 0.1181\n",
      "Epoch 4/10\n",
      "313/313 [==============================] - 1s 3ms/step - loss: 0.2285 - val_loss: 0.3862\n",
      "Epoch 5/10\n",
      "313/313 [==============================] - 1s 3ms/step - loss: 0.1865 - val_loss: 0.2532\n",
      "Epoch 6/10\n",
      "313/313 [==============================] - 1s 3ms/step - loss: 0.1730 - val_loss: 0.0591\n",
      "Epoch 7/10\n",
      "313/313 [==============================] - 1s 3ms/step - loss: 0.1404 - val_loss: 0.0591\n",
      "Epoch 8/10\n",
      "313/313 [==============================] - 1s 3ms/step - loss: 0.0988 - val_loss: 1.1520\n",
      "Epoch 9/10\n",
      "313/313 [==============================] - 1s 3ms/step - loss: 0.1537 - val_loss: 0.0893\n",
      "Epoch 10/10\n",
      "313/313 [==============================] - 1s 3ms/step - loss: 0.0998 - val_loss: 0.0351\n"
     ]
    }
   ],
   "source": [
    "train_model(model, initial_learning_rate=.001)"
   ]
  },
  {
   "cell_type": "markdown",
   "metadata": {},
   "source": [
    "## License"
   ]
  },
  {
   "cell_type": "markdown",
   "metadata": {},
   "source": [
    "The full text of the license is available at:\n",
    "\n",
    "https://github.com/airtai/mono-dense-keras/blob/main/LICENSE\n",
    "\n",
    "You are free to:\n",
    "- Share — copy and redistribute the material in any medium or format\n",
    "\n",
    "- Adapt — remix, transform, and build upon the material\n",
    "\n",
    "The licensor cannot revoke these freedoms as long as you follow the license terms.\n",
    "\n",
    "Under the following terms:\n",
    "- Attribution — You must give appropriate credit, provide a link to the license, and indicate if changes were made. You may do so in any reasonable manner, but not in any way that suggests the licensor endorses you or your use.\n",
    "\n",
    "- NonCommercial — You may not use the material for commercial purposes.\n",
    "\n",
    "- ShareAlike — If you remix, transform, or build upon the material, you must distribute your contributions under the same license as the original.\n",
    "\n",
    "- No additional restrictions — You may not apply legal terms or technological measures that legally restrict others from doing anything the license permits."
   ]
  },
  {
   "cell_type": "code",
   "execution_count": null,
   "metadata": {},
   "outputs": [],
   "source": []
  }
 ],
 "metadata": {
  "kernelspec": {
   "display_name": "Python 3",
   "language": "python",
   "name": "python3"
  },
  "language_info": {
   "codemirror_mode": {
    "name": "ipython",
    "version": 3
   },
   "file_extension": ".py",
   "mimetype": "text/x-python",
   "name": "python",
   "nbconvert_exporter": "python",
   "pygments_lexer": "ipython3",
   "version": "3.8.10"
  }
 },
 "nbformat": 4,
 "nbformat_minor": 4
}
