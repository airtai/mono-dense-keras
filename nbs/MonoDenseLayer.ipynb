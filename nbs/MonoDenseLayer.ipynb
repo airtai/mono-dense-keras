{
 "cells": [
  {
   "cell_type": "code",
   "execution_count": null,
   "id": "988da963",
   "metadata": {},
   "outputs": [],
   "source": [
    "#| default_exp layers"
   ]
  },
  {
   "cell_type": "markdown",
   "id": "f74dee8b",
   "metadata": {},
   "source": [
    "# Monotonic dense layer\n",
    "\n",
    "> Monotonic dense layer is a learnable layer built on top of `tf.keras.layers.Dense` layer, but monotonic w.r.t. inputs."
   ]
  },
  {
   "cell_type": "code",
   "execution_count": null,
   "id": "0177c8d4",
   "metadata": {},
   "outputs": [],
   "source": [
    "#| export\n",
    "\n",
    "from typing import *\n",
    "from contextlib import contextmanager\n",
    "\n",
    "import numpy as np\n",
    "from numpy.typing import ArrayLike, NDArray\n",
    "\n",
    "import tensorflow as tf\n",
    "import tensorflow.keras.backend as K\n",
    "from tensorflow.keras.layers import Dense"
   ]
  },
  {
   "cell_type": "code",
   "execution_count": null,
   "id": "3e0bb838",
   "metadata": {},
   "outputs": [],
   "source": [
    "import pytest\n",
    "\n",
    "import matplotlib.pyplot as plt\n",
    "\n",
    "import pandas as pd\n",
    "\n",
    "from tensorflow.keras import Model\n",
    "from tensorflow.keras.layers import Input"
   ]
  },
  {
   "cell_type": "code",
   "execution_count": null,
   "id": "62e8c1e2",
   "metadata": {},
   "outputs": [
    {
     "name": "stdout",
     "output_type": "stream",
     "text": [
      "************************************************************************************************************************\n",
      "*                                                                                                                      *\n",
      "*                                                        hello                                                         *\n",
      "*                                                                                                                      *\n",
      "************************************************************************************************************************\n",
      "\n"
     ]
    }
   ],
   "source": [
    "def print_header(header: str, length: int=120):\n",
    "    n = (length-2-len(header)) // 2\n",
    "    print(\"*\"*length)\n",
    "    print(\"*\" + \" \"*(length-2) + \"*\")\n",
    "    print(\"*\" + \" \"*n + header + \" \"*(length-n-2-len(header)) + \"*\")\n",
    "    print(\"*\" + \" \"*(length-2) + \"*\")\n",
    "    print(\"*\"*length)\n",
    "    print()\n",
    "print_header(\"hello\")"
   ]
  },
  {
   "cell_type": "markdown",
   "id": "56ef4845",
   "metadata": {},
   "source": [
    "## Monotonic Dense Unit Class "
   ]
  },
  {
   "cell_type": "markdown",
   "id": "53c09e8e",
   "metadata": {},
   "source": [
    "### Activation functions"
   ]
  },
  {
   "cell_type": "code",
   "execution_count": null,
   "id": "8af4688e",
   "metadata": {},
   "outputs": [],
   "source": [
    "# |export\n",
    "\n",
    "\n",
    "def get_saturated_activation(\n",
    "    convex_activation: Callable[[tf.Tensor], tf.Tensor],\n",
    "    concave_activation: Callable[[tf.Tensor], tf.Tensor],\n",
    "    a: float = 1.0,\n",
    "    c: float = 1.0,\n",
    ") -> Callable[[tf.Tensor], tf.Tensor]:\n",
    "    def saturated_activation(\n",
    "        x: tf.Tensor,\n",
    "        convex_activation: Callable[[tf.Tensor], tf.Tensor]=convex_activation,\n",
    "        concave_activation: Callable[[tf.Tensor], tf.Tensor]=concave_activation,\n",
    "        a: float=a,\n",
    "        c: float=c,\n",
    "    ) -> tf.Tensor:\n",
    "        cc = convex_activation(tf.ones_like(x) * c)\n",
    "        return a * tf.where(\n",
    "            x <= c,\n",
    "            convex_activation(x + c) - cc,\n",
    "            concave_activation(x - c) + cc,\n",
    "        )\n",
    "    \n",
    "    return saturated_activation"
   ]
  },
  {
   "cell_type": "code",
   "execution_count": null,
   "id": "75d078c8",
   "metadata": {},
   "outputs": [],
   "source": [
    "# | export\n",
    "\n",
    "\n",
    "def get_activation_functions(\n",
    "    activation: Optional[Union[str, Callable[[tf.Tensor], tf.Tensor]]] = None\n",
    ") -> Tuple[\n",
    "    Optional[Callable[[tf.Tensor], tf.Tensor]],\n",
    "    Optional[Callable[[tf.Tensor], tf.Tensor]],\n",
    "    Optional[Callable[[tf.Tensor], tf.Tensor]],\n",
    "]:\n",
    "    if activation:\n",
    "        convex_activation = tf.keras.activations.get(\n",
    "            activation.lower() if isinstance(activation, str) else activation\n",
    "        )\n",
    "        concave_activation = lambda x: -convex_activation(-x)\n",
    "        saturated_activation = get_saturated_activation(\n",
    "            convex_activation, concave_activation\n",
    "        )\n",
    "        return convex_activation, concave_activation, saturated_activation\n",
    "    else:\n",
    "        return None, None, None"
   ]
  },
  {
   "cell_type": "code",
   "execution_count": null,
   "id": "68ab8eb0",
   "metadata": {},
   "outputs": [
    {
     "data": {
      "image/png": "[encoded data removed]",
      "text/plain": [
       "<Figure size 640x480 with 1 Axes>"
      ]
     },
     "metadata": {},
     "output_type": "display_data"
    },
    {
     "data": {
      "image/png": "[encoded data removed]",
      "text/plain": [
       "<Figure size 640x480 with 1 Axes>"
      ]
     },
     "metadata": {},
     "output_type": "display_data"
    },
    {
     "data": {
      "image/png": "[encoded data removed]",
      "text/plain": [
       "<Figure size 640x480 with 1 Axes>"
      ]
     },
     "metadata": {},
     "output_type": "display_data"
    }
   ],
   "source": [
    "for activation in [\"ReLU\", \"ELU\", \"SELU\"]:\n",
    "    (\n",
    "        convex_activation,\n",
    "        concave_activation,\n",
    "        saturated_activation,\n",
    "    ) = get_activation_functions(activation)\n",
    "\n",
    "    x = np.arange(-3.5, 3.5, 0.1)\n",
    "    plt.plot(\n",
    "        x, convex_activation(x), label=r\"$\\breve{\\rho}(x)$\", linestyle=\"--\", alpha=0.7\n",
    "    )\n",
    "    plt.plot(\n",
    "        x, concave_activation(x), label=r\"$\\hat{\\rho}(x)$\", linestyle=\"--\", alpha=0.7\n",
    "    )\n",
    "    plt.plot(\n",
    "        x,\n",
    "        saturated_activation(x),\n",
    "        label=r\"$\\tilde{\\rho}(x)$\",\n",
    "        linestyle=\"--\",\n",
    "        alpha=0.7,\n",
    "    )\n",
    "    plt.legend()\n",
    "    plt.title(\n",
    "        f\"{activation.__name__ if hasattr(activation, '__name__') else activation} based activations\"\n",
    "    )\n",
    "    plt.show()"
   ]
  },
  {
   "cell_type": "code",
   "execution_count": null,
   "id": "2931b057",
   "metadata": {},
   "outputs": [],
   "source": [
    "# | export\n",
    "\n",
    "\n",
    "def apply_activations(\n",
    "    x: tf.Tensor,\n",
    "    *,\n",
    "    units,\n",
    "    activation: Optional[Union[str, Callable[[tf.Tensor], tf.Tensor]]] = None,\n",
    "    is_convex: bool = False,\n",
    "    is_concave: bool = False,\n",
    "    activation_weights: Tuple[float, float, float] = (1.0, 1.0, 1.0),\n",
    ") -> tf.Tensor:\n",
    "    (\n",
    "        convex_activation,\n",
    "        concave_activation,\n",
    "        saturated_activation,\n",
    "    ) = get_activation_functions(activation)\n",
    "    \n",
    "    if convex_activation is None:\n",
    "        return x\n",
    "    elif is_convex:\n",
    "        return convex_activation(x)\n",
    "    elif is_concave:\n",
    "        return concave_activation(x)\n",
    "    else:\n",
    "        if len(activation_weights) != 3:\n",
    "            raise ValueError(f\"activation_weights={activation_weights}\")\n",
    "        if (np.array(activation_weights) < 0).any():\n",
    "            raise ValueError(f\"activation_weights={activation_weights}\")\n",
    "        normalized_activation_weights = np.array(activation_weights) / sum(activation_weights)\n",
    "        \n",
    "        convex_length = round(normalized_activation_weights[0]*units)\n",
    "        concave_length = round(normalized_activation_weights[1]*units)\n",
    "        saturated_length = units - convex_length - concave_length\n",
    "        \n",
    "        x_convex, x_concave, x_saturated = tf.split(x, (convex_length, concave_length, saturated_length), axis=-1)\n",
    "       \n",
    "        y_convex = convex_activation(x_convex)\n",
    "        y_concave = convex_activation(x_concave)\n",
    "        y_saturated = saturated_activation(x_saturated)\n",
    "        \n",
    "        y = tf.concat([y_convex, y_concave, y_saturated], axis=-1)\n",
    "        \n",
    "        return y"
   ]
  },
  {
   "cell_type": "code",
   "execution_count": null,
   "id": "bc8a343c",
   "metadata": {},
   "outputs": [],
   "source": [
    "tf.keras.utils.set_random_seed(42)\n",
    "x = np.random.normal(0, 5, size=(5, 7, 12))\n",
    "\n",
    "y = apply_activations(\n",
    "    x,\n",
    "    activation=\"relu\",\n",
    "    units=12,\n",
    ")\n",
    "\n",
    "assert y.shape == (5, 7, 12)\n",
    "\n",
    "np.testing.assert_array_almost_equal(y[:, :, :4].numpy(), np.maximum(x[:, :, :4], 0))\n",
    "np.testing.assert_array_almost_equal(-y[:, :, 4:8].numpy(), -np.maximum(x[:, :, 4:8], 0))\n",
    "assert (y[:, :, 8:].numpy() != 0).all()\n",
    "assert (y[:, :, 8:].numpy() >= -1).all()\n",
    "assert (y[:, :, 8:].numpy() <= 1).all()\n",
    "assert (y[:, :, 8:].numpy() == -1).any()\n",
    "assert (y[:, :, 8:].numpy() == 1).any()"
   ]
  },
  {
   "cell_type": "markdown",
   "id": "8f71305e",
   "metadata": {},
   "source": [
    "### Monotonicity indicator"
   ]
  },
  {
   "cell_type": "code",
   "execution_count": null,
   "id": "44cb1c85",
   "metadata": {},
   "outputs": [],
   "source": [
    "#| export\n",
    "\n",
    "def check_monotonicity_indicator_values(monotonicity_indicator: Union[int, NDArray[np.int_]]):\n",
    "    if isinstance(monotonicity_indicator, int):\n",
    "        if monotonicity_indicator not in [-1, 0, 1]:\n",
    "            raise ValueError(f\"monotonicity_indicator must be one of -1, 0, 1, but it is {monotonicity_indicator} instead!\")\n",
    "    else:\n",
    "        r = (monotonicity_indicator == -1) | (monotonicity_indicator == 0) | (monotonicity_indicator == 1)\n",
    "        if not r.all():\n",
    "            raise ValueError(f\"Each element of monotonicity_indicator must be one of -1, 0, 1, but it is {monotonicity_indicator}!\")"
   ]
  },
  {
   "cell_type": "code",
   "execution_count": null,
   "id": "e8aa1144",
   "metadata": {},
   "outputs": [],
   "source": [
    "tf.keras.utils.set_random_seed(42)\n",
    "\n",
    "with pytest.raises(ValueError) as e:\n",
    "    check_monotonicity_indicator_values(2)\n",
    "print(e.value)\n",
    "    \n",
    "monotonicity_indicator = np.random.randint(3, size=(4, 5))-1\n",
    "check_monotonicity_indicator_values(monotonicity_indicator)\n",
    "\n",
    "monotonicity_indicator = monotonicity_indicator-1\n",
    "with pytest.raises(ValueError) as e:\n",
    "    check_monotonicity_indicator_values(monotonicity_indicator)\n",
    "print(e.value)"
   ]
  },
  {
   "cell_type": "code",
   "execution_count": null,
   "id": "fa3b5e20",
   "metadata": {},
   "outputs": [],
   "source": [
    "# |export\n",
    "\n",
    "\n",
    "def apply_monotonicity_indicator_to_kernel(\n",
    "    kernel: tf.Variable, monotonicity_indicator: Union[int, NDArray[np.int_]]\n",
    ") -> tf.Tensor:\n",
    "    abs_kernel = tf.abs(kernel)\n",
    "    if isinstance(monotonicity_indicator, int):\n",
    "        if monotonicity_indicator == 1:\n",
    "            return abs_kernel\n",
    "        elif monotonicity_indicator == -1:\n",
    "            return -abs_kernel\n",
    "        else:\n",
    "            return kernel\n",
    "    else:\n",
    "        if kernel.shape != monotonicity_indicator.shape:\n",
    "            raise ValueError(\"Kernel and monotonicity_indicator must have the same shapes, but we have {kernel.shape} != {monotonicity_indicator.shape=}\")\n",
    "#         monotonicity_indicator = np.expand_dims(monotonicity_indicator, axis=-1)\n",
    "        kernel = tf.where(\n",
    "            monotonicity_indicator == 1,\n",
    "            abs_kernel,\n",
    "            kernel,\n",
    "        )\n",
    "        return tf.where(monotonicity_indicator == -1, -abs_kernel, kernel)"
   ]
  },
  {
   "cell_type": "code",
   "execution_count": null,
   "id": "4b6c8659",
   "metadata": {},
   "outputs": [],
   "source": [
    "tf.keras.utils.set_random_seed(42)\n",
    "layer = Dense(7)\n",
    "layer.build(\n",
    "    input_shape=(\n",
    "        None,\n",
    "        9,\n",
    "    )\n",
    ")\n",
    "\n",
    "pos_kernel = apply_monotonicity_indicator_to_kernel(layer.kernel, 1)\n",
    "assert pos_kernel.shape == layer.kernel.shape\n",
    "assert (pos_kernel >= 0).numpy().all()\n",
    "\n",
    "neg_kernel = apply_monotonicity_indicator_to_kernel(layer.kernel, -1)\n",
    "assert neg_kernel.shape == layer.kernel.shape\n",
    "assert (neg_kernel <= 0).numpy().all()\n",
    "\n",
    "org_kernel = apply_monotonicity_indicator_to_kernel(layer.kernel, 0)\n",
    "assert (org_kernel == layer.kernel).numpy().all()"
   ]
  },
  {
   "cell_type": "code",
   "execution_count": null,
   "id": "50b47213",
   "metadata": {},
   "outputs": [],
   "source": [
    "tf.keras.utils.set_random_seed(42)\n",
    "layer = Dense(7)\n",
    "layer.build(\n",
    "    input_shape=(\n",
    "        None,\n",
    "        3,\n",
    "        5,\n",
    "        9,\n",
    "    )\n",
    ")\n",
    "\n",
    "monotonicity_indicator = np.random.randint(3, size=(9, 7))-1\n",
    "check_monotonicity_indicator_values(monotonicity_indicator)\n",
    "\n",
    "mono_kernel = apply_monotonicity_indicator_to_kernel(\n",
    "    layer.kernel, monotonicity_indicator\n",
    ")\n",
    "assert mono_kernel.shape == layer.kernel.shape\n",
    "\n",
    "assert ((mono_kernel >= 0).numpy() | (monotonicity_indicator != 1)).all()\n",
    "assert ((mono_kernel <= 0).numpy() | (monotonicity_indicator != -1)).all()"
   ]
  },
  {
   "cell_type": "markdown",
   "id": "06cbb9cf",
   "metadata": {},
   "source": [
    "### Monotonic Dense Layer"
   ]
  },
  {
   "cell_type": "code",
   "execution_count": null,
   "id": "80aad89f",
   "metadata": {},
   "outputs": [],
   "source": [
    "# | export\n",
    "\n",
    "\n",
    "class MonotonicDense(Dense):\n",
    "    \"\"\"Monotonic counterpart of the regular Dense Layer of tf.keras\"\"\"\n",
    "\n",
    "    def __init__(\n",
    "        self,\n",
    "        units: int,\n",
    "        *,\n",
    "        activation: Optional[Union[str, Callable[[tf.Tensor], tf.Tensor]]] = None,\n",
    "        monotonicity_indicator: Union[int, NDArray[np.int_]] = 1,\n",
    "        is_convex: bool = False,\n",
    "        is_concave: bool = False,\n",
    "        activation_weights: Tuple[float, float, float] = (1.0, 1.0, 1.0),\n",
    "        **kwargs,\n",
    "    ):\n",
    "        \"\"\"Constructs a new MonotonicDense instance.\n",
    "\n",
    "        Params:\n",
    "            units: Positive integer, dimensionality of the output space.\n",
    "            activation: Activation function to use, it is assumed to be convex monotonically\n",
    "                increasing function such as \"relu\" or \"elu\"\n",
    "            monotonicity_indicator: Vector to indicate which of the inputs are monotonically increasing or\n",
    "                monotonically decreasing or non-monotonic. Has value 1 for monotonically increasing,\n",
    "                -1 for monotonically decreasing and 0 for non-monotonic.\n",
    "            is_convex: convex if set to True\n",
    "            is_concave: concave if set to True\n",
    "            activation_weights: relative weights for each type of activation, the default is (1.0, 1.0, 1.0).\n",
    "                Ignored if is_convex or is_concave is set to True\n",
    "            **kwargs: passed directly to the constructor of `Dense`\n",
    "\n",
    "        Returns:\n",
    "            N-D tensor with shape: `(batch_size, ..., units)`.\n",
    "\n",
    "        Raise:\n",
    "            ValueError:\n",
    "                - if both **is_concave** and **is_convex** are set to **True**, or\n",
    "                - if any component of activation_weights is negative or there is not exactly three components\n",
    "        \"\"\"\n",
    "        check_monotonicity_indicator_values(monotonicity_indicator)\n",
    "\n",
    "        if is_convex and is_concave:\n",
    "            raise ValueError(\n",
    "                \"The model cannot be set to be both convex and concave (only linear functions are both).\"\n",
    "            )\n",
    "\n",
    "        if len(activation_weights) != 3:\n",
    "            raise ValueError(\n",
    "                f\"There must be exactly three components of activation_weights, but we have this instead: {activation_weights}.\"\n",
    "            )\n",
    "\n",
    "        if (np.array(activation_weights) < 0).any():\n",
    "            raise ValueError(\n",
    "                f\"Values of activation_weights must be non-negative, but we have this instead: {activation_weights}.\"\n",
    "            )\n",
    "\n",
    "        super(MonotonicDense, self).__init__(units, activation=None, **kwargs)\n",
    "\n",
    "        self.units = units\n",
    "        self.org_activation = activation\n",
    "        self.activation_weights = activation_weights\n",
    "        self.monotonicity_indicator = monotonicity_indicator\n",
    "        self.is_convex = is_convex\n",
    "        self.is_concave = is_concave\n",
    "\n",
    "    @contextmanager\n",
    "    def replace_kernel(self):\n",
    "        \"\"\"Replaces kernel with non-negative or non-positive values according\n",
    "        to the **monotonicity_indicator**\n",
    "        \"\"\"\n",
    "        kernel_org = self.kernel\n",
    "        self.kernel = apply_monotonicity_indicator_to_kernel(\n",
    "            self.kernel, self.monotonicity_indicator\n",
    "        )\n",
    "        try:\n",
    "            yield\n",
    "        finally:\n",
    "            self.kernel = kernel_org\n",
    "\n",
    "    def build(self, input_shape, *args, **kwargs):\n",
    "        \"\"\"Build\n",
    "\n",
    "        Args:\n",
    "            input_shape: input tensor\n",
    "        \"\"\"\n",
    "        super(MonotonicDense, self).build(input_shape, *args, **kwargs)\n",
    "        if not isinstance(self.monotonicity_indicator, int):\n",
    "            if self.kernel.shape != self.monotonicity_indicator.shape:\n",
    "                raise ValueError(\n",
    "                    f\"Input shape and monotonicity vector don't have matching shapes: {self.kernel.shape} != {self.monotonicity_indicator.shape}\"\n",
    "                )\n",
    "\n",
    "    def call(self, inputs):\n",
    "        \"\"\"Call\n",
    "\n",
    "        Args:\n",
    "            inputs: input tensor\n",
    "        \"\"\"\n",
    "        # calculate W'*x+y after we replace the kernal according to monotonicity vector\n",
    "        with self.replace_kernel():\n",
    "            y = super(MonotonicDense, self).call(inputs)\n",
    "\n",
    "        y = apply_activations(\n",
    "            y,\n",
    "            units=self.units,\n",
    "            activation=self.org_activation,\n",
    "            is_convex=self.is_convex,\n",
    "            is_concave=self.is_concave,\n",
    "            activation_weights=self.activation_weights,\n",
    "        )\n",
    "\n",
    "        return y"
   ]
  },
  {
   "cell_type": "code",
   "execution_count": null,
   "id": "98252217",
   "metadata": {},
   "outputs": [],
   "source": [
    "tf.keras.utils.set_random_seed(42)\n",
    "\n",
    "input_shape=(None, 3, 5)\n",
    "units = 7\n",
    "\n",
    "layer = MonotonicDense(units, monotonicity_indicator=1, activation=\"relu\")\n",
    "layer.build(input_shape=input_shape)"
   ]
  },
  {
   "cell_type": "code",
   "execution_count": null,
   "id": "af0c5746",
   "metadata": {},
   "outputs": [],
   "source": [
    "tf.keras.utils.set_random_seed(42)\n",
    "\n",
    "monotonicity_indicator = np.random.randint(3, size=(11, 13))-1\n",
    "\n",
    "layer = MonotonicDense(13, monotonicity_indicator=monotonicity_indicator, activation=\"relu\")\n",
    "layer.build(input_shape=(None, 7, 9, 11))\n",
    "\n",
    "layer = MonotonicDense(13, monotonicity_indicator=monotonicity_indicator, activation=\"relu\")\n",
    "with pytest.raises(ValueError) as e:\n",
    "    layer.build(input_shape=(None, 7, 9, 17))\n",
    "print(e.value)"
   ]
  },
  {
   "cell_type": "code",
   "execution_count": null,
   "id": "da88ac4b",
   "metadata": {},
   "outputs": [],
   "source": [
    "tf.keras.utils.set_random_seed(42)\n",
    "\n",
    "monotonicity_indicator = np.random.randint(3, size=(11, 13))-1\n",
    "\n",
    "layer = MonotonicDense(13, monotonicity_indicator=monotonicity_indicator, activation=\"relu\")\n",
    "\n",
    "layer.build(input_shape=(None, 7, 9, 11))\n",
    "\n",
    "x = np.random.normal(size=(2, 7, 9, 11))\n",
    "with layer.replace_kernel():\n",
    "    pass\n",
    "\n",
    "y = layer(x)\n",
    "assert y.shape[:-1] == x.shape[:-1]"
   ]
  },
  {
   "cell_type": "code",
   "execution_count": null,
   "id": "4cae4c1f",
   "metadata": {},
   "outputs": [],
   "source": [
    "tf.keras.utils.set_random_seed(42)\n",
    "\n",
    "units=17\n",
    "for x in [np.ones((5, 7)), np.zeros((2, 3))]:\n",
    "    for activation in [None, \"elu\", \"relu\"]:\n",
    "        for is_convex in [True, False]:\n",
    "            for is_concave in [True, False]:\n",
    "                for monotonicity_indicator in [1, np.random.randint(3, size=(x.shape[-1], units))-1]:\n",
    "                    if is_concave and is_convex:\n",
    "                        continue\n",
    "                    if isinstance(monotonicity_indicator, int):\n",
    "                        print_header(f\"{activation=}, {is_convex=}, {is_concave=}, {monotonicity_indicator=}\")\n",
    "                    else:\n",
    "                        print_header(f\"{activation=}, {is_convex=}, {is_concave=}, {monotonicity_indicator.shape=}\")\n",
    "\n",
    "                    layer = MonotonicDense(\n",
    "                        units=units,\n",
    "                        monotonicity_indicator=monotonicity_indicator,\n",
    "                        is_convex=is_convex,\n",
    "                        is_concave=is_concave,\n",
    "                        activation=activation,\n",
    "                    )\n",
    "                    y = layer(x)\n",
    "                    print(f\"{x.shape=}\")\n",
    "                    print(f\"{y.shape=}\")\n",
    "                    print()"
   ]
  },
  {
   "cell_type": "markdown",
   "id": "97b243f9",
   "metadata": {},
   "source": [
    "## Universal approximation"
   ]
  },
  {
   "cell_type": "code",
   "execution_count": null,
   "id": "6d5fe981",
   "metadata": {},
   "outputs": [],
   "source": [
    "# this function is problematic for unsaturated activations only\n",
    "\n",
    "x = np.arange(-10, 10, 0.1)\n",
    "y = np.sin(x) + x\n",
    "dy = np.cos(x) + 1\n",
    "plt.plot(x, y)\n",
    "plt.plot(x, dy)\n",
    "# plt.legend()\n",
    "plt.show()"
   ]
  },
  {
   "cell_type": "code",
   "execution_count": null,
   "id": "12a312dd",
   "metadata": {},
   "outputs": [],
   "source": [
    "def generate_heavyside_dataset(n_points=100_000):\n",
    "    tf.keras.utils.set_random_seed(42)\n",
    "\n",
    "    rng = np.random.default_rng(42)\n",
    "    x_train = rng.normal(size=n_points)\n",
    "    y_train = (x_train >= 0).astype(\"float\")\n",
    "    df_train = pd.DataFrame(dict(x=x_train, y=y_train))\n",
    "\n",
    "    return df_train"
   ]
  },
  {
   "cell_type": "raw",
   "id": "a18d20a6",
   "metadata": {},
   "source": [
    "df_train = generate_heavyside_dataset()\n",
    "\n",
    "train_ds = df_train.to_ds().map(lambda d: (d[\"x\"], d[\"y\"]))\n",
    "train_ds.batch(8).peek()"
   ]
  },
  {
   "cell_type": "raw",
   "id": "f6752608",
   "metadata": {},
   "source": [
    "def build_wide_model_f(\n",
    "    df_train: pd.DataFrame,\n",
    "    units: int = 12,\n",
    "    is_mono: bool = True,\n",
    "    activation=\"elu\",\n",
    "):\n",
    "    x_mean, x_stddev = df_train.describe().loc[[\"mean\", \"std\"], \"x\"]\n",
    "    y_mean, y_stddev = df_train.describe().loc[[\"mean\", \"std\"], \"y\"]\n",
    "\n",
    "    print(f\"{x_mean=:.3f}, {x_stddev=:.3f}, {y_mean=:.3f}, {y_stddev=:.3f}\")\n",
    "\n",
    "    x = Input(shape=(1,))\n",
    "    y = (x - x_mean) / x_stddev\n",
    "\n",
    "    if is_mono:\n",
    "        y = MonotonicDense(\n",
    "            units=units,\n",
    "            activation=activation,\n",
    "        )(y)\n",
    "        y = MonotonicDense(units=1, activation=None)(y)\n",
    "    else:\n",
    "        y = Dense(units=units, activation=activation)(y)\n",
    "        y = Dense(units=1, activation=None)(y)\n",
    "\n",
    "    # unnormalize\n",
    "    y = y * y_stddev + y_mean\n",
    "\n",
    "    return Model(\n",
    "        inputs=x,\n",
    "        outputs=y,\n",
    "    )"
   ]
  },
  {
   "cell_type": "raw",
   "id": "c2417ab2",
   "metadata": {},
   "source": [
    "model = build_wide_model_f(df_train)\n",
    "model.summary()"
   ]
  },
  {
   "cell_type": "raw",
   "id": "75e006f4",
   "metadata": {},
   "source": [
    "def get_mono_layers(learner):\n",
    "    return [\n",
    "        layer\n",
    "        for layer in learner.model.layers\n",
    "        if \"MonotonicDense\" == layer.__class__.__name__\n",
    "    ]\n",
    "\n",
    "\n",
    "def show_weights(learner):\n",
    "\n",
    "    import seaborn as sns\n",
    "\n",
    "    cm = sns.dark_palette(\"pink\", as_cmap=True)\n",
    "\n",
    "    def get_kernel_weights(layer):\n",
    "        return [w for w in layer.weights if \"kernel\" in w.name][0].numpy().reshape(-1)\n",
    "\n",
    "    mono_layers = get_mono_layers(learner)\n",
    "\n",
    "    df = pd.DataFrame(\n",
    "        dict(\n",
    "            w0=get_kernel_weights(mono_layers[0]),\n",
    "            w1=get_kernel_weights(mono_layers[1]),\n",
    "        )\n",
    "    )\n",
    "\n",
    "    display(df.abs().style.background_gradient(cmap=cm))"
   ]
  },
  {
   "cell_type": "raw",
   "id": "7f8262d0",
   "metadata": {},
   "source": [
    "def train_model(\n",
    "    activation,\n",
    "    df_train,\n",
    "    units=12,\n",
    "    is_mono=True,\n",
    "    batch_size=128,\n",
    "    weight_decay=0.0001,\n",
    "    max_lr=None,\n",
    "):\n",
    "    tf.keras.utils.set_random_seed(42)\n",
    "\n",
    "    learner = Learner(\n",
    "        build_model_f=lambda: build_wide_model_f(\n",
    "            df_train=df_train, units=units, is_mono=True, activation=activation\n",
    "        ),\n",
    "        loss=\"mean_squared_error\",\n",
    "        train_ds=train_ds.batch(batch_size),\n",
    "        val_ds=train_ds.batch(batch_size),\n",
    "        optimizer=lambda: AdamW(weight_decay=weight_decay),\n",
    "    )\n",
    "\n",
    "    if max_lr is None:\n",
    "        #         max_lr = learner.lr_find(steps=3_000, multiple_run_strategy=np.median)\n",
    "        max_lr = learner.lr_find(steps=3_000, multiple_run_strategy=\"max\")\n",
    "\n",
    "    learner.one_cycle(max_lr=max_lr, epochs=5)\n",
    "\n",
    "    plot_f(\n",
    "        lambda x: learner.model.predict(x).reshape(-1),\n",
    "        start=-2,\n",
    "        stop=2,\n",
    "        title=\"Learned function\",\n",
    "    ).jtstyle().show()\n",
    "\n",
    "    show_weights(learner)\n",
    "\n",
    "    plot_activation_functions(get_mono_layers(learner)[0]).show()\n",
    "    \n",
    "    return learner.model"
   ]
  },
  {
   "cell_type": "raw",
   "id": "f7fa354d",
   "metadata": {},
   "source": [
    "train_model(\"relu\", df_train)"
   ]
  },
  {
   "cell_type": "raw",
   "id": "15fee721",
   "metadata": {},
   "source": [
    "train_model(\"elu\", df_train)"
   ]
  },
  {
   "cell_type": "raw",
   "id": "d68ddac5",
   "metadata": {},
   "source": [
    "# train_model(\"selu\", df_train)"
   ]
  },
  {
   "cell_type": "raw",
   "id": "896c2ac3",
   "metadata": {},
   "source": [
    "# train_model(\"selu\", df_train, max_lr=0.09)"
   ]
  },
  {
   "cell_type": "raw",
   "id": "2740758b",
   "metadata": {},
   "source": [
    "### Synthetic tests"
   ]
  },
  {
   "cell_type": "raw",
   "id": "306bae63",
   "metadata": {},
   "source": [
    "# export\n",
    "\n",
    "def _m_1(x, a=1, b=0):\n",
    "    return np.sin(a*(x-b)) + a*(x-b)\n",
    "\n",
    "def _m_2(x, a=1, b=0): return np.floor(a*(x-b))\n",
    "\n",
    "def _m_3(x, d=1.5, a=1, b=0):\n",
    "    return np.sign(a*(x-b))*np.power(np.abs(a*(x-b)), d)\n",
    "\n",
    "def _m_4(x, a=1, b=0):\n",
    "    return np.exp(0.5*a*(x-b))\n",
    "\n",
    "def _m_5(x, a=1, b=0):\n",
    "    return 1/(1+np.exp(-a*(x-b)))\n",
    "\n",
    "def softmax(fx: List[Callable]):\n",
    "    def _softmax(x, fx=fx):\n",
    "        if x.shape[1] != len(fx):\n",
    "            raise ValueError(f\"{x.shape[1]=} is not equal to {len(fx)=}\")\n",
    "        xs = [f(x[:, i]) if i == 0 else -f(x[:, i]) for i, f in enumerate(fx)]\n",
    "        exs = [np.exp(x) for x in xs]\n",
    "        total = np.concatenate([x.reshape((-1, 1)) for x in exs], axis=-1)\n",
    "        total = np.sum(total, axis=1)\n",
    "        r = exs[0] / total\n",
    "\n",
    "        return r\n",
    "    return _softmax"
   ]
  },
  {
   "cell_type": "raw",
   "id": "2a9d27b7",
   "metadata": {},
   "source": [
    "plot_f([_m_1, _m_2, _m_3, _m_4, _m_5], start=-2.2, stop = 2.2, n_points=1000).jtstyle()"
   ]
  },
  {
   "cell_type": "raw",
   "id": "9ea5e10e",
   "metadata": {},
   "source": [
    "# export\n",
    "\n",
    "\n",
    "def sample_mono_function(\n",
    "    n_inputs: int, rng=None\n",
    ") -> Tuple[\n",
    "    List[Callable[[NDArray[np.float_]], NDArray[np.float_]]],\n",
    "    Callable[[NDArray[np.float_]], NDArray[np.float_]],\n",
    "]:\n",
    "    mx = [_m_1, _m_2, _m_3, _m_4, _m_5]\n",
    "\n",
    "    if rng is None:\n",
    "        rng = np.random.default_rng(42)\n",
    "\n",
    "    fx = rng.choice(mx, size=n_inputs)\n",
    "    ax = rng.gamma(shape=2.0, scale=0.5, size=n_inputs)\n",
    "    bx = rng.normal(size=n_inputs)\n",
    "    cx = rng.gamma(shape=2.0, scale=0.5, size=n_inputs)\n",
    "    dx = rng.normal(size=n_inputs)\n",
    "\n",
    "    fx = [\n",
    "        lambda x, f=fx[i], a=ax[i], b=bx[i], c=cx[i], d=dx[i]: c * f(x, a=a, b=b) + d\n",
    "        for i in range(n_inputs)\n",
    "    ]\n",
    "\n",
    "    f = softmax(fx)\n",
    "\n",
    "    return fx, f"
   ]
  },
  {
   "cell_type": "raw",
   "id": "dce35de8",
   "metadata": {},
   "source": [
    "fx, f = list(sample_mono_function(10))\n",
    "plot_f(fx, start=-3.2, stop=3.2, n_points=1000).jtstyle().show()\n",
    "# f"
   ]
  },
  {
   "cell_type": "raw",
   "id": "e9986780",
   "metadata": {},
   "source": [
    "# export\n",
    "\n",
    "\n",
    "def sample_mono_ds(\n",
    "    f: Callable[[NDArray[np.float_]], NDArray[np.float_]],\n",
    "    n_inputs: int,\n",
    "    rng=None,\n",
    "    size: int = 1_000_000,\n",
    "    noise: float = 0.2,\n",
    ") -> pd.DataFrame:\n",
    "    if rng is None:\n",
    "        rng = np.random.default_rng(42)\n",
    "        \n",
    "    x = rng.normal(size=(size, n_inputs))\n",
    "    y = f(x)\n",
    "    print(f\"{x.shape=}, {y.shape=}\")\n",
    "    \n",
    "    df = pd.DataFrame({f\"x_{i}\": x[:, i] for i in range(n_inputs)})\n",
    "    df[\"y\"] = y\n",
    "    \n",
    "    return df\n"
   ]
  },
  {
   "cell_type": "raw",
   "id": "1e25adfd",
   "metadata": {},
   "source": [
    "\n",
    "df = sample_mono_ds(f, n_inputs=10)\n",
    "df"
   ]
  },
  {
   "cell_type": "raw",
   "id": "39b57841",
   "metadata": {},
   "source": [
    "df.describe().T"
   ]
  },
  {
   "cell_type": "raw",
   "id": "529bdc66",
   "metadata": {},
   "source": []
  }
 ],
 "metadata": {
  "kernelspec": {
   "display_name": "python3",
   "language": "python",
   "name": "python3"
  }
 },
 "nbformat": 4,
 "nbformat_minor": 5
}
