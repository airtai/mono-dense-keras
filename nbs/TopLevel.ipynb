{
 "cells": [
  {
   "cell_type": "code",
   "execution_count": null,
   "id": "d1a55b47",
   "metadata": {},
   "outputs": [],
   "source": [
    "#| default_exp __init__"
   ]
  },
  {
   "cell_type": "code",
   "execution_count": null,
   "id": "f268065e",
   "metadata": {},
   "outputs": [],
   "source": [
    "#| export\n",
    "\n",
    "from mono_dense_keras._components.mono_dense_layer import MonoDense"
   ]
  },
  {
   "cell_type": "code",
   "execution_count": null,
   "id": "3a97bab9",
   "metadata": {},
   "outputs": [],
   "source": [
    "#| export\n",
    "\n",
    "def dummy() -> None:\n",
    "    pass\n",
    "\n",
    "dummy.__module__ = \"_dummy\""
   ]
  },
  {
   "cell_type": "code",
   "execution_count": null,
   "id": "bbc43ce8",
   "metadata": {},
   "outputs": [],
   "source": [
    "#| export\n",
    "\n",
    "__all__ = [\"MonoDense\"]"
   ]
  }
 ],
 "metadata": {
  "kernelspec": {
   "display_name": "python3",
   "language": "python",
   "name": "python3"
  }
 },
 "nbformat": 4,
 "nbformat_minor": 5
}
