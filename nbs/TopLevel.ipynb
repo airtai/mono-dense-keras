{
 "cells": [
  {
   "cell_type": "code",
   "execution_count": 1,
   "id": "d1a55b47",
   "metadata": {},
   "outputs": [],
   "source": [
    "#| default_exp __init__"
   ]
  },
  {
   "cell_type": "code",
   "execution_count": 3,
   "id": "f268065e",
   "metadata": {},
   "outputs": [],
   "source": [
    "#| export\n",
    "\n",
    "from mono_dense_keras._components.mono_dense_layer import MonoDense\n",
    "\n"
   ]
  },
  {
   "cell_type": "code",
   "execution_count": 4,
   "id": "3a97bab9",
   "metadata": {},
   "outputs": [],
   "source": [
    "#| export\n",
    "\n",
    "def dummy():\n",
    "    pass"
   ]
  },
  {
   "cell_type": "code",
   "execution_count": null,
   "id": "bbc43ce8",
   "metadata": {},
   "outputs": [],
   "source": [
    "#| export\n",
    "\n",
    "__all__ = [\"MonoDense\"]"
   ]
  }
 ],
 "metadata": {
  "kernelspec": {
   "display_name": "Python 3",
   "language": "python",
   "name": "python3"
  },
  "language_info": {
   "codemirror_mode": {
    "name": "ipython",
    "version": 3
   },
   "file_extension": ".py",
   "mimetype": "text/x-python",
   "name": "python",
   "nbconvert_exporter": "python",
   "pygments_lexer": "ipython3",
   "version": "3.8.10"
  }
 },
 "nbformat": 4,
 "nbformat_minor": 5
}
